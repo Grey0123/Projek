{
  "cells": [
    {
      "cell_type": "code",
      "execution_count": 250,
      "metadata": {
        "_cell_guid": "cfd474ce-b6cf-4c47-ae64-fb9700302d11",
        "_kg_hide-input": true,
        "_uuid": "d86f76f9e0940838802c62f39888b441dc6dcd21",
        "id": "bfGXCxKmUtMl"
      },
      "outputs": [],
      "source": [
        "import pandas as pd\n",
        "import numpy as np\n",
        "import seaborn as sns\n",
        "from keras.preprocessing.text import Tokenizer\n",
        "from keras_preprocessing.sequence import pad_sequences\n",
        "from keras.utils import to_categorical\n",
        "import matplotlib.pyplot as plt\n",
        "%matplotlib inline\n"
      ]
    },
    {
      "cell_type": "code",
      "source": [
        "from google.colab import drive\n",
        "drive.mount('/content/drive')"
      ],
      "metadata": {
        "colab": {
          "base_uri": "https://localhost:8080/"
        },
        "id": "8ZfTmHKdZyxl",
        "outputId": "300dfce6-43c8-4684-eec5-949383e4a3f1"
      },
      "execution_count": 251,
      "outputs": [
        {
          "output_type": "stream",
          "name": "stdout",
          "text": [
            "Drive already mounted at /content/drive; to attempt to forcibly remount, call drive.mount(\"/content/drive\", force_remount=True).\n"
          ]
        }
      ]
    },
    {
      "cell_type": "markdown",
      "source": [
        "#Read Dataset serta cek isinya"
      ],
      "metadata": {
        "id": "l_PcAoFxo0YD"
      }
    },
    {
      "cell_type": "code",
      "execution_count": 252,
      "metadata": {
        "_cell_guid": "891241cd-9725-485c-a2c2-d20e48db541f",
        "_uuid": "d247915d447279f8f779c74cb135b55f9e1df2dc",
        "colab": {
          "base_uri": "https://localhost:8080/",
          "height": 112
        },
        "id": "Zv93-_wBUtMq",
        "outputId": "3f538bcb-7b59-4880-dc24-1a8fd07c62ab"
      },
      "outputs": [
        {
          "output_type": "execute_result",
          "data": {
            "text/plain": [
              "   label                                               text\n",
              "0      1  Unfortunately, the frustration of being Dr. Go...\n",
              "1      2  Been going to Dr. Goldberg for over 10 years. ..."
            ],
            "text/html": [
              "\n",
              "  <div id=\"df-f1cf2cf4-e284-4805-b8f2-fc5fa02a8568\">\n",
              "    <div class=\"colab-df-container\">\n",
              "      <div>\n",
              "<style scoped>\n",
              "    .dataframe tbody tr th:only-of-type {\n",
              "        vertical-align: middle;\n",
              "    }\n",
              "\n",
              "    .dataframe tbody tr th {\n",
              "        vertical-align: top;\n",
              "    }\n",
              "\n",
              "    .dataframe thead th {\n",
              "        text-align: right;\n",
              "    }\n",
              "</style>\n",
              "<table border=\"1\" class=\"dataframe\">\n",
              "  <thead>\n",
              "    <tr style=\"text-align: right;\">\n",
              "      <th></th>\n",
              "      <th>label</th>\n",
              "      <th>text</th>\n",
              "    </tr>\n",
              "  </thead>\n",
              "  <tbody>\n",
              "    <tr>\n",
              "      <th>0</th>\n",
              "      <td>1</td>\n",
              "      <td>Unfortunately, the frustration of being Dr. Go...</td>\n",
              "    </tr>\n",
              "    <tr>\n",
              "      <th>1</th>\n",
              "      <td>2</td>\n",
              "      <td>Been going to Dr. Goldberg for over 10 years. ...</td>\n",
              "    </tr>\n",
              "  </tbody>\n",
              "</table>\n",
              "</div>\n",
              "      <button class=\"colab-df-convert\" onclick=\"convertToInteractive('df-f1cf2cf4-e284-4805-b8f2-fc5fa02a8568')\"\n",
              "              title=\"Convert this dataframe to an interactive table.\"\n",
              "              style=\"display:none;\">\n",
              "        \n",
              "  <svg xmlns=\"http://www.w3.org/2000/svg\" height=\"24px\"viewBox=\"0 0 24 24\"\n",
              "       width=\"24px\">\n",
              "    <path d=\"M0 0h24v24H0V0z\" fill=\"none\"/>\n",
              "    <path d=\"M18.56 5.44l.94 2.06.94-2.06 2.06-.94-2.06-.94-.94-2.06-.94 2.06-2.06.94zm-11 1L8.5 8.5l.94-2.06 2.06-.94-2.06-.94L8.5 2.5l-.94 2.06-2.06.94zm10 10l.94 2.06.94-2.06 2.06-.94-2.06-.94-.94-2.06-.94 2.06-2.06.94z\"/><path d=\"M17.41 7.96l-1.37-1.37c-.4-.4-.92-.59-1.43-.59-.52 0-1.04.2-1.43.59L10.3 9.45l-7.72 7.72c-.78.78-.78 2.05 0 2.83L4 21.41c.39.39.9.59 1.41.59.51 0 1.02-.2 1.41-.59l7.78-7.78 2.81-2.81c.8-.78.8-2.07 0-2.86zM5.41 20L4 18.59l7.72-7.72 1.47 1.35L5.41 20z\"/>\n",
              "  </svg>\n",
              "      </button>\n",
              "      \n",
              "  <style>\n",
              "    .colab-df-container {\n",
              "      display:flex;\n",
              "      flex-wrap:wrap;\n",
              "      gap: 12px;\n",
              "    }\n",
              "\n",
              "    .colab-df-convert {\n",
              "      background-color: #E8F0FE;\n",
              "      border: none;\n",
              "      border-radius: 50%;\n",
              "      cursor: pointer;\n",
              "      display: none;\n",
              "      fill: #1967D2;\n",
              "      height: 32px;\n",
              "      padding: 0 0 0 0;\n",
              "      width: 32px;\n",
              "    }\n",
              "\n",
              "    .colab-df-convert:hover {\n",
              "      background-color: #E2EBFA;\n",
              "      box-shadow: 0px 1px 2px rgba(60, 64, 67, 0.3), 0px 1px 3px 1px rgba(60, 64, 67, 0.15);\n",
              "      fill: #174EA6;\n",
              "    }\n",
              "\n",
              "    [theme=dark] .colab-df-convert {\n",
              "      background-color: #3B4455;\n",
              "      fill: #D2E3FC;\n",
              "    }\n",
              "\n",
              "    [theme=dark] .colab-df-convert:hover {\n",
              "      background-color: #434B5C;\n",
              "      box-shadow: 0px 1px 3px 1px rgba(0, 0, 0, 0.15);\n",
              "      filter: drop-shadow(0px 1px 2px rgba(0, 0, 0, 0.3));\n",
              "      fill: #FFFFFF;\n",
              "    }\n",
              "  </style>\n",
              "\n",
              "      <script>\n",
              "        const buttonEl =\n",
              "          document.querySelector('#df-f1cf2cf4-e284-4805-b8f2-fc5fa02a8568 button.colab-df-convert');\n",
              "        buttonEl.style.display =\n",
              "          google.colab.kernel.accessAllowed ? 'block' : 'none';\n",
              "\n",
              "        async function convertToInteractive(key) {\n",
              "          const element = document.querySelector('#df-f1cf2cf4-e284-4805-b8f2-fc5fa02a8568');\n",
              "          const dataTable =\n",
              "            await google.colab.kernel.invokeFunction('convertToInteractive',\n",
              "                                                     [key], {});\n",
              "          if (!dataTable) return;\n",
              "\n",
              "          const docLinkHtml = 'Like what you see? Visit the ' +\n",
              "            '<a target=\"_blank\" href=https://colab.research.google.com/notebooks/data_table.ipynb>data table notebook</a>'\n",
              "            + ' to learn more about interactive tables.';\n",
              "          element.innerHTML = '';\n",
              "          dataTable['output_type'] = 'display_data';\n",
              "          await google.colab.output.renderOutput(dataTable, element);\n",
              "          const docLink = document.createElement('div');\n",
              "          docLink.innerHTML = docLinkHtml;\n",
              "          element.appendChild(docLink);\n",
              "        }\n",
              "      </script>\n",
              "    </div>\n",
              "  </div>\n",
              "  "
            ]
          },
          "metadata": {},
          "execution_count": 252
        }
      ],
      "source": [
        "yelp_reviews=pd.read_csv(\"/content/drive/MyDrive/Deep Learning/yelp_review_polarity_csv/train.csv\", names = [\"label\", 'text'])\n",
        "yelp_reviews.head(2)"
      ]
    },
    {
      "cell_type": "code",
      "execution_count": 253,
      "metadata": {
        "_cell_guid": "f1a4b8a6-134f-4707-b314-e576c0896ff7",
        "_uuid": "0d4f6a4d2d3c4b407799e7a6555646362ea05492",
        "colab": {
          "base_uri": "https://localhost:8080/",
          "height": 53
        },
        "id": "3VSkuzn9UtMr",
        "outputId": "10fbfab7-8fb1-4b6c-f89d-eb4399ea4fc7"
      },
      "outputs": [
        {
          "output_type": "execute_result",
          "data": {
            "text/plain": [
              "'Wing sauce is like water. Pretty much a lot of butter and some hot sauce (franks red hot maybe).  The whole wings are good size and crispy, but for $1 a wing the sauce could be better. The hot and extra hot are about the same flavor/heat.  The fish sandwich is good and is a large portion, sides are decent.'"
            ],
            "application/vnd.google.colaboratory.intrinsic+json": {
              "type": "string"
            }
          },
          "metadata": {},
          "execution_count": 253
        }
      ],
      "source": [
        "#let's check out a sample review\n",
        "yelp_reviews.text[5]"
      ]
    },
    {
      "cell_type": "code",
      "execution_count": 254,
      "metadata": {
        "_cell_guid": "4aca08ee-f3c7-4171-bff6-5fb9a89240da",
        "_uuid": "40e81f05e1d3733bc351bd94ae53bb7c273a1f8b",
        "colab": {
          "base_uri": "https://localhost:8080/"
        },
        "id": "nAkero50UtMr",
        "outputId": "e33c3282-79d2-4340-f4dc-7f5eeae6ea3a"
      },
      "outputs": [
        {
          "output_type": "execute_result",
          "data": {
            "text/plain": [
              "label    False\n",
              "text     False\n",
              "dtype: bool"
            ]
          },
          "metadata": {},
          "execution_count": 254
        }
      ],
      "source": [
        "##checking for nulls\n",
        "yelp_reviews.isnull().any()"
      ]
    },
    {
      "cell_type": "code",
      "execution_count": 255,
      "metadata": {
        "_cell_guid": "5867cca1-62f8-4871-8bea-a49871aa8d7b",
        "_uuid": "842fcd53054f0b510dbfc7bf4931f5610607137e",
        "colab": {
          "base_uri": "https://localhost:8080/"
        },
        "id": "Q-ZqEKUrUtMt",
        "outputId": "2d10b762-97d4-4764-b858-d0d4616ac82f"
      },
      "outputs": [
        {
          "output_type": "execute_result",
          "data": {
            "text/plain": [
              "array([1, 2])"
            ]
          },
          "metadata": {},
          "execution_count": 255
        }
      ],
      "source": [
        "yelp_reviews.label.unique()"
      ]
    },
    {
      "cell_type": "code",
      "source": [
        "yelp_reviews.describe()"
      ],
      "metadata": {
        "colab": {
          "base_uri": "https://localhost:8080/",
          "height": 300
        },
        "id": "AfHerPc0_gB8",
        "outputId": "252c345e-897b-4e3a-a263-848d955ea008"
      },
      "execution_count": 256,
      "outputs": [
        {
          "output_type": "execute_result",
          "data": {
            "text/plain": [
              "          label\n",
              "count  560000.0\n",
              "mean        1.5\n",
              "std         0.5\n",
              "min         1.0\n",
              "25%         1.0\n",
              "50%         1.5\n",
              "75%         2.0\n",
              "max         2.0"
            ],
            "text/html": [
              "\n",
              "  <div id=\"df-82d84b9a-8644-40c8-a0e3-12eeec62f810\">\n",
              "    <div class=\"colab-df-container\">\n",
              "      <div>\n",
              "<style scoped>\n",
              "    .dataframe tbody tr th:only-of-type {\n",
              "        vertical-align: middle;\n",
              "    }\n",
              "\n",
              "    .dataframe tbody tr th {\n",
              "        vertical-align: top;\n",
              "    }\n",
              "\n",
              "    .dataframe thead th {\n",
              "        text-align: right;\n",
              "    }\n",
              "</style>\n",
              "<table border=\"1\" class=\"dataframe\">\n",
              "  <thead>\n",
              "    <tr style=\"text-align: right;\">\n",
              "      <th></th>\n",
              "      <th>label</th>\n",
              "    </tr>\n",
              "  </thead>\n",
              "  <tbody>\n",
              "    <tr>\n",
              "      <th>count</th>\n",
              "      <td>560000.0</td>\n",
              "    </tr>\n",
              "    <tr>\n",
              "      <th>mean</th>\n",
              "      <td>1.5</td>\n",
              "    </tr>\n",
              "    <tr>\n",
              "      <th>std</th>\n",
              "      <td>0.5</td>\n",
              "    </tr>\n",
              "    <tr>\n",
              "      <th>min</th>\n",
              "      <td>1.0</td>\n",
              "    </tr>\n",
              "    <tr>\n",
              "      <th>25%</th>\n",
              "      <td>1.0</td>\n",
              "    </tr>\n",
              "    <tr>\n",
              "      <th>50%</th>\n",
              "      <td>1.5</td>\n",
              "    </tr>\n",
              "    <tr>\n",
              "      <th>75%</th>\n",
              "      <td>2.0</td>\n",
              "    </tr>\n",
              "    <tr>\n",
              "      <th>max</th>\n",
              "      <td>2.0</td>\n",
              "    </tr>\n",
              "  </tbody>\n",
              "</table>\n",
              "</div>\n",
              "      <button class=\"colab-df-convert\" onclick=\"convertToInteractive('df-82d84b9a-8644-40c8-a0e3-12eeec62f810')\"\n",
              "              title=\"Convert this dataframe to an interactive table.\"\n",
              "              style=\"display:none;\">\n",
              "        \n",
              "  <svg xmlns=\"http://www.w3.org/2000/svg\" height=\"24px\"viewBox=\"0 0 24 24\"\n",
              "       width=\"24px\">\n",
              "    <path d=\"M0 0h24v24H0V0z\" fill=\"none\"/>\n",
              "    <path d=\"M18.56 5.44l.94 2.06.94-2.06 2.06-.94-2.06-.94-.94-2.06-.94 2.06-2.06.94zm-11 1L8.5 8.5l.94-2.06 2.06-.94-2.06-.94L8.5 2.5l-.94 2.06-2.06.94zm10 10l.94 2.06.94-2.06 2.06-.94-2.06-.94-.94-2.06-.94 2.06-2.06.94z\"/><path d=\"M17.41 7.96l-1.37-1.37c-.4-.4-.92-.59-1.43-.59-.52 0-1.04.2-1.43.59L10.3 9.45l-7.72 7.72c-.78.78-.78 2.05 0 2.83L4 21.41c.39.39.9.59 1.41.59.51 0 1.02-.2 1.41-.59l7.78-7.78 2.81-2.81c.8-.78.8-2.07 0-2.86zM5.41 20L4 18.59l7.72-7.72 1.47 1.35L5.41 20z\"/>\n",
              "  </svg>\n",
              "      </button>\n",
              "      \n",
              "  <style>\n",
              "    .colab-df-container {\n",
              "      display:flex;\n",
              "      flex-wrap:wrap;\n",
              "      gap: 12px;\n",
              "    }\n",
              "\n",
              "    .colab-df-convert {\n",
              "      background-color: #E8F0FE;\n",
              "      border: none;\n",
              "      border-radius: 50%;\n",
              "      cursor: pointer;\n",
              "      display: none;\n",
              "      fill: #1967D2;\n",
              "      height: 32px;\n",
              "      padding: 0 0 0 0;\n",
              "      width: 32px;\n",
              "    }\n",
              "\n",
              "    .colab-df-convert:hover {\n",
              "      background-color: #E2EBFA;\n",
              "      box-shadow: 0px 1px 2px rgba(60, 64, 67, 0.3), 0px 1px 3px 1px rgba(60, 64, 67, 0.15);\n",
              "      fill: #174EA6;\n",
              "    }\n",
              "\n",
              "    [theme=dark] .colab-df-convert {\n",
              "      background-color: #3B4455;\n",
              "      fill: #D2E3FC;\n",
              "    }\n",
              "\n",
              "    [theme=dark] .colab-df-convert:hover {\n",
              "      background-color: #434B5C;\n",
              "      box-shadow: 0px 1px 3px 1px rgba(0, 0, 0, 0.15);\n",
              "      filter: drop-shadow(0px 1px 2px rgba(0, 0, 0, 0.3));\n",
              "      fill: #FFFFFF;\n",
              "    }\n",
              "  </style>\n",
              "\n",
              "      <script>\n",
              "        const buttonEl =\n",
              "          document.querySelector('#df-82d84b9a-8644-40c8-a0e3-12eeec62f810 button.colab-df-convert');\n",
              "        buttonEl.style.display =\n",
              "          google.colab.kernel.accessAllowed ? 'block' : 'none';\n",
              "\n",
              "        async function convertToInteractive(key) {\n",
              "          const element = document.querySelector('#df-82d84b9a-8644-40c8-a0e3-12eeec62f810');\n",
              "          const dataTable =\n",
              "            await google.colab.kernel.invokeFunction('convertToInteractive',\n",
              "                                                     [key], {});\n",
              "          if (!dataTable) return;\n",
              "\n",
              "          const docLinkHtml = 'Like what you see? Visit the ' +\n",
              "            '<a target=\"_blank\" href=https://colab.research.google.com/notebooks/data_table.ipynb>data table notebook</a>'\n",
              "            + ' to learn more about interactive tables.';\n",
              "          element.innerHTML = '';\n",
              "          dataTable['output_type'] = 'display_data';\n",
              "          await google.colab.output.renderOutput(dataTable, element);\n",
              "          const docLink = document.createElement('div');\n",
              "          docLink.innerHTML = docLinkHtml;\n",
              "          element.appendChild(docLink);\n",
              "        }\n",
              "      </script>\n",
              "    </div>\n",
              "  </div>\n",
              "  "
            ]
          },
          "metadata": {},
          "execution_count": 256
        }
      ]
    },
    {
      "cell_type": "code",
      "source": [
        "reviews = yelp_reviews[:10000]"
      ],
      "metadata": {
        "id": "leFCNqLSbenG"
      },
      "execution_count": 257,
      "outputs": []
    },
    {
      "cell_type": "code",
      "source": [
        "reviews['label'].value_counts()"
      ],
      "metadata": {
        "colab": {
          "base_uri": "https://localhost:8080/"
        },
        "id": "vIfcJtFAJ7LR",
        "outputId": "ef0feae2-f4a9-433f-b247-2d6980bb100d"
      },
      "execution_count": 258,
      "outputs": [
        {
          "output_type": "execute_result",
          "data": {
            "text/plain": [
              "1    5293\n",
              "2    4707\n",
              "Name: label, dtype: int64"
            ]
          },
          "metadata": {},
          "execution_count": 258
        }
      ]
    },
    {
      "cell_type": "code",
      "execution_count": 259,
      "metadata": {
        "_cell_guid": "498f23f1-6450-4fb7-b504-a06c63e3678a",
        "_uuid": "0be5a1ae73dcef7564fefead44c1787588ad3682",
        "id": "PtCeEZz1UtMv"
      },
      "outputs": [],
      "source": [
        "texts = reviews[\"text\"].values\n",
        "labels = reviews[\"label\"].values"
      ]
    },
    {
      "cell_type": "code",
      "source": [
        "reviews[\"label\"].unique()"
      ],
      "metadata": {
        "colab": {
          "base_uri": "https://localhost:8080/"
        },
        "id": "wEAmmar6ifwC",
        "outputId": "a7605dfe-a0f4-4475-c640-474d970b3d8e"
      },
      "execution_count": 260,
      "outputs": [
        {
          "output_type": "execute_result",
          "data": {
            "text/plain": [
              "array([1, 2])"
            ]
          },
          "metadata": {},
          "execution_count": 260
        }
      ]
    },
    {
      "cell_type": "markdown",
      "metadata": {
        "_cell_guid": "26ee8605-24cc-4c7b-961d-90ac2dd84ebf",
        "_uuid": "cdaa0fe8658843f098777b489a7aa6056980f108",
        "id": "9fn7xejYUtMw"
      },
      "source": [
        "\n",
        "#Konversi teks menjadi representasi numerical\n"
      ]
    },
    {
      "cell_type": "code",
      "execution_count": 261,
      "metadata": {
        "_cell_guid": "dd003ff2-d26a-4f47-aa0f-94a0e53f03f4",
        "_uuid": "e5fc665739bc312d370b6148a618ac656b62124c",
        "colab": {
          "base_uri": "https://localhost:8080/"
        },
        "id": "cfCVxgeyUtMx",
        "outputId": "f42da17b-1ae4-4c78-ec08-e55dd6fcf46a"
      },
      "outputs": [
        {
          "output_type": "stream",
          "name": "stdout",
          "text": [
            "Found 30298 unique tokens.\n"
          ]
        }
      ],
      "source": [
        "MAX_NUM_WORDS=1000 # Jumlah kata unik yang ingin digunakan\n",
        "MAX_SEQUENCE_LENGTH=100 # maksimum jumlah review dalam kalimat\n",
        "\n",
        "\n",
        "tokenizer = Tokenizer(num_words=MAX_NUM_WORDS)\n",
        "tokenizer.fit_on_texts(texts)\n",
        "sequences = tokenizer.texts_to_sequences(texts)\n",
        "\n",
        "word_index = tokenizer.word_index\n",
        "print('Found %s unique tokens.' % len(word_index))\n",
        "\n",
        "data = pad_sequences(sequences, maxlen=MAX_SEQUENCE_LENGTH)"
      ]
    },
    {
      "cell_type": "code",
      "source": [
        "labels = to_categorical(np.asarray(labels))\n",
        "print('Shape of data tensor:', data.shape)\n",
        "print('Shape of label tensor:', labels.shape)\n"
      ],
      "metadata": {
        "colab": {
          "base_uri": "https://localhost:8080/"
        },
        "id": "ur8UUxKvnqVd",
        "outputId": "845ec579-b16c-4397-a0b1-d37ea7e72a6c"
      },
      "execution_count": 262,
      "outputs": [
        {
          "output_type": "stream",
          "name": "stdout",
          "text": [
            "Shape of data tensor: (10000, 100)\n",
            "Shape of label tensor: (10000, 3)\n"
          ]
        }
      ]
    },
    {
      "cell_type": "code",
      "source": [
        "# menghilangkan column tambahan yang diakibatkan karena function to_categorical yang harus dimulai dari angka 0\n",
        "labels = labels[:,1:]\n",
        "labels.shape"
      ],
      "metadata": {
        "colab": {
          "base_uri": "https://localhost:8080/"
        },
        "id": "3pHkvGoNoOCK",
        "outputId": "8dcef2d8-c36e-4662-a751-daf501c3c2c6"
      },
      "execution_count": 263,
      "outputs": [
        {
          "output_type": "execute_result",
          "data": {
            "text/plain": [
              "(10000, 2)"
            ]
          },
          "metadata": {},
          "execution_count": 263
        }
      ]
    },
    {
      "cell_type": "markdown",
      "metadata": {
        "_cell_guid": "3c268756-f888-471d-a5c0-78f08df2aa5b",
        "_uuid": "41790705dd7e988bc28cb47a9fbc5c33e9466a8a",
        "id": "Vl4Hf7wBUtMx"
      },
      "source": [
        "<a id='split'></a>\n",
        "\n",
        "###  split the data into a training set and a validation set"
      ]
    },
    {
      "cell_type": "code",
      "execution_count": 264,
      "metadata": {
        "_cell_guid": "dd74f812-f292-4d4b-9c52-3c10a94874c7",
        "_uuid": "bab24c329c19e62d18054643d7396e394756c7c3",
        "id": "luTZAr6gUtMy"
      },
      "outputs": [],
      "source": [
        "VALIDATION_SPLIT=0.2\n",
        "\n",
        "indices = np.arange(data.shape[0])\n",
        "np.random.shuffle(indices)\n",
        "data = data[indices]\n",
        "labels = labels[indices]\n",
        "nb_validation_samples = int(VALIDATION_SPLIT * data.shape[0])\n",
        "\n",
        "x_train = data[:-nb_validation_samples]\n",
        "y_train = labels[:-nb_validation_samples]\n",
        "x_val = data[-nb_validation_samples:]\n",
        "y_val = labels[-nb_validation_samples:]"
      ]
    },
    {
      "cell_type": "markdown",
      "metadata": {
        "_cell_guid": "7d6845b8-474e-46b8-9d89-81ddbfac1bfd",
        "_uuid": "d1bd92e445069fcbcc4726ba169037830f2c55b3",
        "id": "uJYoZRmxUtMy"
      },
      "source": [
        "<a id='embedding_layer'></a>\n",
        "\n",
        "### Preparing the Embedding layer"
      ]
    },
    {
      "cell_type": "markdown",
      "source": [
        "GloVe (Global Vectors for Word Representation) is a model for learning word embeddings. The \"6B\" in \"glove.6B.100d\" refers to the dataset that the model was trained on, which contains 6 billion tokens (words or word pieces). The \"100d\" refers to the dimensionality of the word vectors, meaning each word is represented by a 100-dimensional vector. These vectors capture the meaning and context of the words in a numerical form that can be used as input to machine learning models."
      ],
      "metadata": {
        "id": "4L9aEcswoNeB"
      }
    },
    {
      "cell_type": "code",
      "execution_count": 265,
      "metadata": {
        "_cell_guid": "5fbb355e-d6c0-44d5-85f3-15334074bf9c",
        "_uuid": "9a49b3276c58ccb06d8ac532fd1855b5b8e3cdf0",
        "colab": {
          "base_uri": "https://localhost:8080/"
        },
        "id": "i9xX2BDUUtMz",
        "outputId": "e47d1192-9771-4375-fbf0-a720784ff541"
      },
      "outputs": [
        {
          "output_type": "stream",
          "name": "stdout",
          "text": [
            "Found 400000 word vectors.\n"
          ]
        }
      ],
      "source": [
        "GLOVE_DIR='/home/ashish/test/glove.6B/'\n",
        "\n",
        "import os\n",
        "embeddings_index = {}\n",
        "f = open('/content/drive/MyDrive/Deep Learning/glove.6B.100d.txt')\n",
        "for line in f:\n",
        "    values = line.split()\n",
        "    word = values[0]\n",
        "    coefs = np.asarray(values[1:], dtype='float32')\n",
        "    embeddings_index[word] = coefs\n",
        "f.close()\n",
        "\n",
        "print('Found %s word vectors.' % len(embeddings_index))"
      ]
    },
    {
      "cell_type": "markdown",
      "metadata": {
        "_cell_guid": "4184a0b8-c569-45df-85c9-b4287f91830a",
        "_uuid": "8ed621c85348f1e0828caae997c94b362d841dd3",
        "id": "wqulkU7lUtMz"
      },
      "source": [
        "<a id='embedding_matrix'></a>\n",
        "\n",
        "\n",
        "### compute  embedding matrix\n",
        "At this point we can leverage our embedding_index dictionary and our word_index to compute our embedding matrix\n"
      ]
    },
    {
      "cell_type": "code",
      "execution_count": 266,
      "metadata": {
        "_cell_guid": "c5c964b6-c5b6-47fa-8370-db3cc0f929b8",
        "_uuid": "976b7859d1bac5f31dd58f08fdca7a16193c02c1",
        "id": "XPh7hAQyUtM0"
      },
      "outputs": [],
      "source": [
        "EMBEDDING_DIM = 100 # \n",
        "\n",
        "embedding_matrix = np.zeros((len(word_index) + 1, EMBEDDING_DIM))\n",
        "for word, i in word_index.items():\n",
        "    embedding_vector = embeddings_index.get(word)\n",
        "    if embedding_vector is not None:\n",
        "        # jika kata tidak ditemukan dalam embedding index maka akan dikembalikan 0\n",
        "        embedding_matrix[i] = embedding_vector"
      ]
    },
    {
      "cell_type": "markdown",
      "metadata": {
        "_cell_guid": "3159bc0a-353d-4f42-b30b-43445599db46",
        "_uuid": "6e20eb7f40c907c49953d02862fe2c405810ae0f",
        "id": "3DqUj_1tUtM0"
      },
      "source": [
        "### Define Embedding Layer "
      ]
    },
    {
      "cell_type": "code",
      "execution_count": 267,
      "metadata": {
        "_cell_guid": "d8633e84-8f8a-4290-9b46-d0955ff787c4",
        "_uuid": "219a73f70bd55c51f35eb38ec9c9f70b46e1354b",
        "id": "NDw8EOYaUtM0"
      },
      "outputs": [],
      "source": [
        "from keras.layers import Embedding\n",
        "\n",
        "embedding_layer = Embedding(len(word_index) + 1,\n",
        "                            EMBEDDING_DIM,\n",
        "                            weights=[embedding_matrix],\n",
        "                            input_length=MAX_SEQUENCE_LENGTH,\n",
        "                            trainable=False)\n"
      ]
    },
    {
      "cell_type": "markdown",
      "metadata": {
        "_cell_guid": "f9960c17-f9b5-41b9-b09d-e80c87cb3e27",
        "_uuid": "f90b6036e77dced3f028d76efad7e9bc1a3ae61d",
        "id": "X3GsnI-uUtM1"
      },
      "source": [
        "### Training model"
      ]
    },
    {
      "cell_type": "code",
      "source": [
        "pip install keras-tuner"
      ],
      "metadata": {
        "id": "iAavyQbKULuy"
      },
      "execution_count": null,
      "outputs": []
    },
    {
      "cell_type": "code",
      "execution_count": 269,
      "metadata": {
        "_cell_guid": "382382d7-66a0-4a1c-ba34-f077965d04a0",
        "_uuid": "d8a70e2f13abb66ba977d46f17538152681defa7",
        "id": "LnCr7Q25UtM1"
      },
      "outputs": [],
      "source": [
        "from keras.layers import Bidirectional, GlobalMaxPool1D,Conv1D\n",
        "from keras.layers import Dense, Input, LSTM, Embedding, Dropout, Activation\n",
        "\n",
        "from keras.models import Model\n",
        "\n",
        "\n",
        "inp = Input(shape=(MAX_SEQUENCE_LENGTH,))\n",
        "x = embedded_sequences = embedding_layer(inp)\n",
        "x = Bidirectional(LSTM(100, return_sequences=True, dropout=0.1, recurrent_dropout=0.1))(x)\n",
        "x = GlobalMaxPool1D()(x)\n",
        "x = Dense(100, activation=\"relu\")(x)\n",
        "x = Dropout(0.01)(x)\n",
        "x = Dense(2, activation=\"sigmoid\")(x)\n",
        "model = Model(inputs=inp, outputs=x)\n",
        "model.compile(loss='binary_crossentropy', optimizer='adam', metrics=['accuracy'])"
      ]
    },
    {
      "cell_type": "code",
      "source": [
        "# Hyperparameter Tuning Test\n",
        "# def build_model(hp):\n",
        "#     inp = Input(shape=(MAX_SEQUENCE_LENGTH,))\n",
        "#     x = embedded_sequences = embedding_layer(inp)\n",
        "#     x = Bidirectional(LSTM(100, return_sequences=True, dropout=0.1, recurrent_dropout=0.1))(x)\n",
        "#     x = GlobalMaxPool1D()(x)\n",
        "#     x = Dense(100, activation=\"relu\")(x)\n",
        "#     x = Dropout(0.01)(x)\n",
        "#     x = Dense(2, activation=\"sigmoid\")(x)\n",
        "#     model = Model(inputs=inp, outputs=x)\n",
        "#     model.compile(loss='binary_crossentropy', optimizer='adam', metrics=['accuracy'])\n",
        "  \n",
        "#     return model\n",
        "\n",
        "# tuner = RandomSearch(build_model,\n",
        "#                      max_trials=5,\n",
        "#                      executions_per_trial=3)\n",
        "\n",
        "# tuner.search(x_train, y_train, epochs=5, validation_data=(x_val, y_val))\n"
      ],
      "metadata": {
        "id": "GPVXVgG8T_zG"
      },
      "execution_count": 270,
      "outputs": []
    },
    {
      "cell_type": "code",
      "source": [
        "# DC-Bidirectional LSTM\n",
        "# from keras.layers import Bidirectional, Dense, LSTM\n",
        "# from keras.layers import Dense, Input, LSTM, Embedding, Dropout, Activation\n",
        "# from keras.models import Sequential\n",
        "# # Define the number of hidden units in the LSTM layers\n",
        "# hidden_units = 50\n",
        "\n",
        "# # Create a sequential model\n",
        "# model = Sequential()\n",
        "\n",
        "# # Add a bidirectional LSTM layer with dense connections\n",
        "# inp = Input(shape=(MAX_SEQUENCE_LENGTH,))\n",
        "# x = embedded_sequences = embedding_layer(inp)\n",
        "# model.add(Bidirectional(LSTM(hidden_units, return_sequences=True, kernel_initializer='glorot_uniform'),input_shape=(50,), merge_mode='concat'))\n",
        "# model.add(Dense(hidden_units, activation='relu'))\n",
        "# model.add(Dense(50, activation=\"relu\"))\n",
        "# # Add additional LSTM and dense layers as needed\n",
        "# model.add(LSTM(hidden_units, return_sequences=True))\n",
        "# model.add(Dense(hidden_units, activation='relu'))\n",
        "# model.add(Dropout(0,1))\n",
        "\n",
        "# # Add a final dense layer for the output\n",
        "# model.add(Dense(2, activation='softmax'))\n",
        "\n",
        "# # Compile the model\n",
        "# model.compile(loss='binary_crossentropy', optimizer='adam', metrics=['accuracy'])\n"
      ],
      "metadata": {
        "id": "2POUpiokXvUd"
      },
      "execution_count": 271,
      "outputs": []
    },
    {
      "cell_type": "code",
      "execution_count": 272,
      "metadata": {
        "_cell_guid": "cf14d9a6-46a9-4d3d-a47b-31e623c0e235",
        "_uuid": "e63d04b242e8de8d02b147bc1a06b3b574e7d4e1",
        "scrolled": true,
        "colab": {
          "base_uri": "https://localhost:8080/"
        },
        "id": "B2mpSrzdUtM1",
        "outputId": "24f16633-48f7-492d-ef1e-75a8d3aa9b75"
      },
      "outputs": [
        {
          "output_type": "stream",
          "name": "stdout",
          "text": [
            "Epoch 1/5\n",
            "125/125 [==============================] - 88s 660ms/step - loss: 0.5529 - accuracy: 0.7149 - val_loss: 0.4741 - val_accuracy: 0.7670\n",
            "Epoch 2/5\n",
            "125/125 [==============================] - 64s 510ms/step - loss: 0.4236 - accuracy: 0.8046 - val_loss: 0.3604 - val_accuracy: 0.8400\n",
            "Epoch 3/5\n",
            "125/125 [==============================] - 64s 515ms/step - loss: 0.3650 - accuracy: 0.8371 - val_loss: 0.3321 - val_accuracy: 0.8515\n",
            "Epoch 4/5\n",
            "125/125 [==============================] - 61s 490ms/step - loss: 0.3393 - accuracy: 0.8505 - val_loss: 0.3167 - val_accuracy: 0.8670\n",
            "Epoch 5/5\n",
            "125/125 [==============================] - 62s 494ms/step - loss: 0.3056 - accuracy: 0.8674 - val_loss: 0.3049 - val_accuracy: 0.8620\n"
          ]
        }
      ],
      "source": [
        "model.fit(x_train, y_train, validation_data=(x_val, y_val),epochs=5, batch_size=64);"
      ]
    },
    {
      "cell_type": "code",
      "source": [
        "model.evaluate(x_train, y_train)"
      ],
      "metadata": {
        "colab": {
          "base_uri": "https://localhost:8080/"
        },
        "id": "5KStw8wR9C-o",
        "outputId": "042b4ca8-16b0-4ac9-a885-a3b30e26951d"
      },
      "execution_count": 273,
      "outputs": [
        {
          "output_type": "stream",
          "name": "stdout",
          "text": [
            "250/250 [==============================] - 30s 119ms/step - loss: 0.2610 - accuracy: 0.8951\n"
          ]
        },
        {
          "output_type": "execute_result",
          "data": {
            "text/plain": [
              "[0.26099473237991333, 0.8951249718666077]"
            ]
          },
          "metadata": {},
          "execution_count": 273
        }
      ]
    },
    {
      "cell_type": "code",
      "source": [
        "test = pd.read_csv(\"/content/drive/MyDrive/Deep Learning/yelp_review_polarity_csv/test.csv\", names = [\"label\", 'text'])"
      ],
      "metadata": {
        "id": "IaSW9E-N5Tkr"
      },
      "execution_count": 274,
      "outputs": []
    },
    {
      "cell_type": "code",
      "source": [
        "test.label.unique()"
      ],
      "metadata": {
        "colab": {
          "base_uri": "https://localhost:8080/"
        },
        "id": "GZsahjVq_IeI",
        "outputId": "27bde6d5-b7fd-4b74-ebe3-2fb1768acb94"
      },
      "execution_count": 275,
      "outputs": [
        {
          "output_type": "execute_result",
          "data": {
            "text/plain": [
              "array([2, 1])"
            ]
          },
          "metadata": {},
          "execution_count": 275
        }
      ]
    },
    {
      "cell_type": "code",
      "source": [
        "test.describe()"
      ],
      "metadata": {
        "colab": {
          "base_uri": "https://localhost:8080/",
          "height": 300
        },
        "id": "9jh80Svh_LoE",
        "outputId": "e6caba3e-d8d3-44e7-fa27-334e0f6b301d"
      },
      "execution_count": 276,
      "outputs": [
        {
          "output_type": "execute_result",
          "data": {
            "text/plain": [
              "              label\n",
              "count  38000.000000\n",
              "mean       1.500000\n",
              "std        0.500007\n",
              "min        1.000000\n",
              "25%        1.000000\n",
              "50%        1.500000\n",
              "75%        2.000000\n",
              "max        2.000000"
            ],
            "text/html": [
              "\n",
              "  <div id=\"df-9d83c31e-4b73-47c3-a59d-bf7e2fd2ad01\">\n",
              "    <div class=\"colab-df-container\">\n",
              "      <div>\n",
              "<style scoped>\n",
              "    .dataframe tbody tr th:only-of-type {\n",
              "        vertical-align: middle;\n",
              "    }\n",
              "\n",
              "    .dataframe tbody tr th {\n",
              "        vertical-align: top;\n",
              "    }\n",
              "\n",
              "    .dataframe thead th {\n",
              "        text-align: right;\n",
              "    }\n",
              "</style>\n",
              "<table border=\"1\" class=\"dataframe\">\n",
              "  <thead>\n",
              "    <tr style=\"text-align: right;\">\n",
              "      <th></th>\n",
              "      <th>label</th>\n",
              "    </tr>\n",
              "  </thead>\n",
              "  <tbody>\n",
              "    <tr>\n",
              "      <th>count</th>\n",
              "      <td>38000.000000</td>\n",
              "    </tr>\n",
              "    <tr>\n",
              "      <th>mean</th>\n",
              "      <td>1.500000</td>\n",
              "    </tr>\n",
              "    <tr>\n",
              "      <th>std</th>\n",
              "      <td>0.500007</td>\n",
              "    </tr>\n",
              "    <tr>\n",
              "      <th>min</th>\n",
              "      <td>1.000000</td>\n",
              "    </tr>\n",
              "    <tr>\n",
              "      <th>25%</th>\n",
              "      <td>1.000000</td>\n",
              "    </tr>\n",
              "    <tr>\n",
              "      <th>50%</th>\n",
              "      <td>1.500000</td>\n",
              "    </tr>\n",
              "    <tr>\n",
              "      <th>75%</th>\n",
              "      <td>2.000000</td>\n",
              "    </tr>\n",
              "    <tr>\n",
              "      <th>max</th>\n",
              "      <td>2.000000</td>\n",
              "    </tr>\n",
              "  </tbody>\n",
              "</table>\n",
              "</div>\n",
              "      <button class=\"colab-df-convert\" onclick=\"convertToInteractive('df-9d83c31e-4b73-47c3-a59d-bf7e2fd2ad01')\"\n",
              "              title=\"Convert this dataframe to an interactive table.\"\n",
              "              style=\"display:none;\">\n",
              "        \n",
              "  <svg xmlns=\"http://www.w3.org/2000/svg\" height=\"24px\"viewBox=\"0 0 24 24\"\n",
              "       width=\"24px\">\n",
              "    <path d=\"M0 0h24v24H0V0z\" fill=\"none\"/>\n",
              "    <path d=\"M18.56 5.44l.94 2.06.94-2.06 2.06-.94-2.06-.94-.94-2.06-.94 2.06-2.06.94zm-11 1L8.5 8.5l.94-2.06 2.06-.94-2.06-.94L8.5 2.5l-.94 2.06-2.06.94zm10 10l.94 2.06.94-2.06 2.06-.94-2.06-.94-.94-2.06-.94 2.06-2.06.94z\"/><path d=\"M17.41 7.96l-1.37-1.37c-.4-.4-.92-.59-1.43-.59-.52 0-1.04.2-1.43.59L10.3 9.45l-7.72 7.72c-.78.78-.78 2.05 0 2.83L4 21.41c.39.39.9.59 1.41.59.51 0 1.02-.2 1.41-.59l7.78-7.78 2.81-2.81c.8-.78.8-2.07 0-2.86zM5.41 20L4 18.59l7.72-7.72 1.47 1.35L5.41 20z\"/>\n",
              "  </svg>\n",
              "      </button>\n",
              "      \n",
              "  <style>\n",
              "    .colab-df-container {\n",
              "      display:flex;\n",
              "      flex-wrap:wrap;\n",
              "      gap: 12px;\n",
              "    }\n",
              "\n",
              "    .colab-df-convert {\n",
              "      background-color: #E8F0FE;\n",
              "      border: none;\n",
              "      border-radius: 50%;\n",
              "      cursor: pointer;\n",
              "      display: none;\n",
              "      fill: #1967D2;\n",
              "      height: 32px;\n",
              "      padding: 0 0 0 0;\n",
              "      width: 32px;\n",
              "    }\n",
              "\n",
              "    .colab-df-convert:hover {\n",
              "      background-color: #E2EBFA;\n",
              "      box-shadow: 0px 1px 2px rgba(60, 64, 67, 0.3), 0px 1px 3px 1px rgba(60, 64, 67, 0.15);\n",
              "      fill: #174EA6;\n",
              "    }\n",
              "\n",
              "    [theme=dark] .colab-df-convert {\n",
              "      background-color: #3B4455;\n",
              "      fill: #D2E3FC;\n",
              "    }\n",
              "\n",
              "    [theme=dark] .colab-df-convert:hover {\n",
              "      background-color: #434B5C;\n",
              "      box-shadow: 0px 1px 3px 1px rgba(0, 0, 0, 0.15);\n",
              "      filter: drop-shadow(0px 1px 2px rgba(0, 0, 0, 0.3));\n",
              "      fill: #FFFFFF;\n",
              "    }\n",
              "  </style>\n",
              "\n",
              "      <script>\n",
              "        const buttonEl =\n",
              "          document.querySelector('#df-9d83c31e-4b73-47c3-a59d-bf7e2fd2ad01 button.colab-df-convert');\n",
              "        buttonEl.style.display =\n",
              "          google.colab.kernel.accessAllowed ? 'block' : 'none';\n",
              "\n",
              "        async function convertToInteractive(key) {\n",
              "          const element = document.querySelector('#df-9d83c31e-4b73-47c3-a59d-bf7e2fd2ad01');\n",
              "          const dataTable =\n",
              "            await google.colab.kernel.invokeFunction('convertToInteractive',\n",
              "                                                     [key], {});\n",
              "          if (!dataTable) return;\n",
              "\n",
              "          const docLinkHtml = 'Like what you see? Visit the ' +\n",
              "            '<a target=\"_blank\" href=https://colab.research.google.com/notebooks/data_table.ipynb>data table notebook</a>'\n",
              "            + ' to learn more about interactive tables.';\n",
              "          element.innerHTML = '';\n",
              "          dataTable['output_type'] = 'display_data';\n",
              "          await google.colab.output.renderOutput(dataTable, element);\n",
              "          const docLink = document.createElement('div');\n",
              "          docLink.innerHTML = docLinkHtml;\n",
              "          element.appendChild(docLink);\n",
              "        }\n",
              "      </script>\n",
              "    </div>\n",
              "  </div>\n",
              "  "
            ]
          },
          "metadata": {},
          "execution_count": 276
        }
      ]
    },
    {
      "cell_type": "code",
      "source": [
        "test = test[:10000]"
      ],
      "metadata": {
        "id": "prg0_JHMCFCX"
      },
      "execution_count": 277,
      "outputs": []
    },
    {
      "cell_type": "code",
      "source": [
        "test_texts = test[\"text\"].values\n",
        "test_labels = test[\"label\"].values"
      ],
      "metadata": {
        "id": "Qc0jSYXjCiv3"
      },
      "execution_count": 278,
      "outputs": []
    },
    {
      "cell_type": "code",
      "source": [
        "test['label'].value_counts()"
      ],
      "metadata": {
        "colab": {
          "base_uri": "https://localhost:8080/"
        },
        "id": "nDQ6O70aGX-i",
        "outputId": "a87bbe41-daa8-4e2b-a88b-b79b30e437e6"
      },
      "execution_count": 279,
      "outputs": [
        {
          "output_type": "execute_result",
          "data": {
            "text/plain": [
              "1    5367\n",
              "2    4633\n",
              "Name: label, dtype: int64"
            ]
          },
          "metadata": {},
          "execution_count": 279
        }
      ]
    },
    {
      "cell_type": "code",
      "source": [
        "MAX_NUM_WORDS=1000 # how many unique words to use (i.e num rows in embedding vector)\n",
        "MAX_SEQUENCE_LENGTH=100 # max number of words in a review to use\n",
        "\n",
        "sequences = tokenizer.texts_to_sequences(test_texts)\n",
        "\n",
        "word_index = tokenizer.word_index\n",
        "print('Found %s unique tokens.' % len(word_index))\n",
        "\n",
        "test_data = pad_sequences(sequences, maxlen=MAX_SEQUENCE_LENGTH)"
      ],
      "metadata": {
        "id": "o9gBRkVvCPNa",
        "colab": {
          "base_uri": "https://localhost:8080/"
        },
        "outputId": "e8634988-2a53-4ebc-fd7e-ba3b93271f13"
      },
      "execution_count": 280,
      "outputs": [
        {
          "output_type": "stream",
          "name": "stdout",
          "text": [
            "Found 30298 unique tokens.\n"
          ]
        }
      ]
    },
    {
      "cell_type": "code",
      "source": [
        "test_labels = to_categorical(np.asarray(test_labels))\n",
        "print('Shape of data tensor:', test_data.shape)\n",
        "print('Shape of label tensor:', test_labels.shape)"
      ],
      "metadata": {
        "id": "4IfPUVZnCafV",
        "colab": {
          "base_uri": "https://localhost:8080/"
        },
        "outputId": "b69a4637-cae1-47c8-e69c-379aead0884d"
      },
      "execution_count": 281,
      "outputs": [
        {
          "output_type": "stream",
          "name": "stdout",
          "text": [
            "Shape of data tensor: (10000, 100)\n",
            "Shape of label tensor: (10000, 3)\n"
          ]
        }
      ]
    },
    {
      "cell_type": "code",
      "source": [
        "test_labels = test_labels[:,1:]"
      ],
      "metadata": {
        "id": "zi-w8MHhALr-"
      },
      "execution_count": 282,
      "outputs": []
    },
    {
      "cell_type": "code",
      "source": [
        "pred =  model.predict(test_data)\n",
        "pred"
      ],
      "metadata": {
        "colab": {
          "base_uri": "https://localhost:8080/"
        },
        "id": "lq-sd4G373t2",
        "outputId": "a479bb36-622a-407d-82f8-ce92596428b2"
      },
      "execution_count": 283,
      "outputs": [
        {
          "output_type": "stream",
          "name": "stdout",
          "text": [
            "313/313 [==============================] - 21s 66ms/step\n"
          ]
        },
        {
          "output_type": "execute_result",
          "data": {
            "text/plain": [
              "array([[0.86218655, 0.15692313],\n",
              "       [0.9721109 , 0.02475358],\n",
              "       [0.26698536, 0.7376033 ],\n",
              "       ...,\n",
              "       [0.08582633, 0.9072478 ],\n",
              "       [0.01594464, 0.98400074],\n",
              "       [0.6215094 , 0.3690671 ]], dtype=float32)"
            ]
          },
          "metadata": {},
          "execution_count": 283
        }
      ]
    },
    {
      "cell_type": "code",
      "source": [
        "y_pred_bool = np.argmax(pred, axis=1)"
      ],
      "metadata": {
        "id": "Y7LgzyrqHSFk"
      },
      "execution_count": 284,
      "outputs": []
    },
    {
      "cell_type": "code",
      "source": [
        "test_labels"
      ],
      "metadata": {
        "colab": {
          "base_uri": "https://localhost:8080/"
        },
        "id": "YygX0U8jHNUE",
        "outputId": "2008597f-5b8e-4c1c-d2f1-a1e8e82be660"
      },
      "execution_count": 285,
      "outputs": [
        {
          "output_type": "execute_result",
          "data": {
            "text/plain": [
              "array([[0., 1.],\n",
              "       [1., 0.],\n",
              "       [0., 1.],\n",
              "       ...,\n",
              "       [1., 0.],\n",
              "       [0., 1.],\n",
              "       [1., 0.]], dtype=float32)"
            ]
          },
          "metadata": {},
          "execution_count": 285
        }
      ]
    },
    {
      "cell_type": "code",
      "source": [
        "y_pred_bool = to_categorical(np.asarray(y_pred_bool))\n",
        "y_pred_bool"
      ],
      "metadata": {
        "colab": {
          "base_uri": "https://localhost:8080/"
        },
        "id": "1pkRXwx9HQf8",
        "outputId": "ce98ab51-e81b-4302-98b3-92a937c6f25d"
      },
      "execution_count": 286,
      "outputs": [
        {
          "output_type": "execute_result",
          "data": {
            "text/plain": [
              "array([[1., 0.],\n",
              "       [1., 0.],\n",
              "       [0., 1.],\n",
              "       ...,\n",
              "       [0., 1.],\n",
              "       [0., 1.],\n",
              "       [1., 0.]], dtype=float32)"
            ]
          },
          "metadata": {},
          "execution_count": 286
        }
      ]
    },
    {
      "cell_type": "code",
      "source": [
        "from sklearn.metrics import classification_report\n",
        "\n",
        "print(classification_report(test_labels, y_pred_bool))"
      ],
      "metadata": {
        "colab": {
          "base_uri": "https://localhost:8080/"
        },
        "id": "3QTGxMysErL9",
        "outputId": "ee8e2b87-69df-4483-9108-7b440c0ed3bc"
      },
      "execution_count": 287,
      "outputs": [
        {
          "output_type": "stream",
          "name": "stdout",
          "text": [
            "              precision    recall  f1-score   support\n",
            "\n",
            "           0       0.85      0.90      0.87      5367\n",
            "           1       0.87      0.82      0.85      4633\n",
            "\n",
            "   micro avg       0.86      0.86      0.86     10000\n",
            "   macro avg       0.86      0.86      0.86     10000\n",
            "weighted avg       0.86      0.86      0.86     10000\n",
            " samples avg       0.86      0.86      0.86     10000\n",
            "\n"
          ]
        }
      ]
    },
    {
      "cell_type": "code",
      "source": [
        "model.evaluate(test_data,test_labels)"
      ],
      "metadata": {
        "colab": {
          "base_uri": "https://localhost:8080/"
        },
        "id": "oj5veFT74M4B",
        "outputId": "7dcf4b0b-dd21-4d57-d743-16da7177aaa0"
      },
      "execution_count": 288,
      "outputs": [
        {
          "output_type": "stream",
          "name": "stdout",
          "text": [
            "313/313 [==============================] - 23s 73ms/step - loss: 0.3172 - accuracy: 0.8620\n"
          ]
        },
        {
          "output_type": "execute_result",
          "data": {
            "text/plain": [
              "[0.3171703517436981, 0.8619999885559082]"
            ]
          },
          "metadata": {},
          "execution_count": 288
        }
      ]
    }
  ],
  "metadata": {
    "kernelspec": {
      "display_name": "Python 3",
      "language": "python",
      "name": "python3"
    },
    "language_info": {
      "codemirror_mode": {
        "name": "ipython",
        "version": 3
      },
      "file_extension": ".py",
      "mimetype": "text/x-python",
      "name": "python",
      "nbconvert_exporter": "python",
      "pygments_lexer": "ipython3",
      "version": "3.6.8"
    },
    "colab": {
      "provenance": []
    }
  },
  "nbformat": 4,
  "nbformat_minor": 0
}